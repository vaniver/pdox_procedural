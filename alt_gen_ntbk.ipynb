{
 "cells": [
  {
   "cell_type": "code",
   "execution_count": 1,
   "metadata": {},
   "outputs": [],
   "source": [
    "from functools import reduce\n",
    "from itertools import permutations\n",
    "import random\n",
    "\n",
    "from cube import Cube\n",
    "from alt_map import create_hex_map, valid_cubes\n",
    "from area import Area\n",
    "from voronoi import simple_voronoi, voronoi, iterative_voronoi"
   ]
  },
  {
   "cell_type": "code",
   "execution_count": 2,
   "metadata": {},
   "outputs": [],
   "source": [
    "random.seed(1945)\n",
    "n_x = 129\n",
    "n_y = 65\n",
    "rgb_from_ijk = {cub.tuple():(random.randint(0,255), random.randint(0,255), random.randint(0,255)) for cub in valid_cubes(n_x,n_y)}"
   ]
  },
  {
   "cell_type": "code",
   "execution_count": 3,
   "metadata": {},
   "outputs": [],
   "source": [
    "max_x = 10*(n_x*3-3)\n",
    "max_y = 17*(n_y*2-2)"
   ]
  },
  {
   "cell_type": "code",
   "execution_count": 4,
   "metadata": {},
   "outputs": [],
   "source": [
    "img = create_hex_map(rgb_from_ijk, max_x,max_y,n_x,n_y)\n",
    "img.show()"
   ]
  },
  {
   "cell_type": "code",
   "execution_count": 5,
   "metadata": {},
   "outputs": [],
   "source": [
    "pid_from_cube = {cub.tuple(): ind for ind, cub in enumerate(valid_cubes(n_x,n_y))}\n",
    "cube_from_pid = {v: k for k, v in pid_from_cube.items()}\n",
    "weight_from_pid = {pid: random.randint(1,8) for pid in cube_from_pid.keys()}"
   ]
  },
  {
   "cell_type": "code",
   "execution_count": 6,
   "metadata": {},
   "outputs": [],
   "source": [
    "weight_from_cube = {Cube(cube_from_pid[k]): v for k,v in weight_from_pid.items()}"
   ]
  },
  {
   "cell_type": "code",
   "execution_count": 7,
   "metadata": {},
   "outputs": [
    {
     "name": "stdout",
     "output_type": "stream",
     "text": [
      "[(112, -78, -34), (29, -70, 41), (36, -53, 17), (25, -72, 47), (85, -90, 5), (94, -106, 12), (106, -110, 4), (38, -45, 7), (126, -116, -10), (64, -62, -2), (93, -79, -14), (31, -45, 14), (123, -123, 0), (26, -76, 50), (2, -40, 38), (98, -83, -15), (35, -49, 14), (82, -96, 14), (30, -72, 42), (69, -38, -31), (106, -113, 7), (47, -57, 10), (79, -95, 16), (124, -69, -55), (53, -80, 27), (26, -73, 47), (97, -92, -5), (15, -70, 55), (115, -83, -32), (20, -27, 7), (67, -93, 26), (33, -30, -3), (115, -73, -42), (42, -40, -2), (72, -57, -15), (43, -46, 3), (12, -53, 41), (116, -116, 0), (5, -37, 32), (73, -40, -33)]\n",
      "40\n"
     ]
    }
   ],
   "source": [
    "centers = random.sample(sorted(cube_from_pid.values()),40)\n",
    "print(centers)\n",
    "print(sum([sum([x == c for x in centers]) for c in centers]))"
   ]
  },
  {
   "cell_type": "code",
   "execution_count": 8,
   "metadata": {},
   "outputs": [
    {
     "name": "stdout",
     "output_type": "stream",
     "text": [
      "59\n",
      "69\n",
      "72\n",
      "72\n"
     ]
    }
   ],
   "source": [
    "centers, result, distmap = iterative_voronoi(num_centers=80, weight_from_cube=weight_from_cube, min_size=61)\n",
    "img = create_hex_map({cub.tuple(): rgb_from_ijk[centers[v].tuple()] for cub, v in result.items()}, max_x,max_y,n_x,n_y)\n",
    "img.show()\n",
    "img.save(\"weighted.png\")"
   ]
  },
  {
   "cell_type": "code",
   "execution_count": 9,
   "metadata": {},
   "outputs": [],
   "source": [
    "cids = sorted(set(result.values()))\n",
    "chunks = []\n",
    "for cid in cids:\n",
    "    chunks.append(Area(cid, [k for k, v in result.items() if v == cid]))\n",
    "for chunk in chunks:\n",
    "    chunk.calc_edges(result)"
   ]
  },
  {
   "cell_type": "code",
   "execution_count": 10,
   "metadata": {},
   "outputs": [],
   "source": [
    "triangles = set()\n",
    "for cid in cids:\n",
    "    if chunks[cid].outside:\n",
    "        continue\n",
    "    for oid1 in chunks[cid].self_edges.keys():\n",
    "        if chunks[oid1].outside:\n",
    "            continue\n",
    "        for oid2 in chunks[oid1].self_edges.keys():\n",
    "            if chunks[oid2].outside:\n",
    "                continue\n",
    "            if cid in chunks[oid2].self_edges.keys():\n",
    "                # Found a triangle!\n",
    "                short_edge = min(\n",
    "                    len(chunks[cid].self_edges[oid1]),  len(chunks[cid].other_edges[oid1]),\n",
    "                    len(chunks[cid].self_edges[oid2]),  len(chunks[cid].other_edges[oid2]),\n",
    "                    len(chunks[oid1].self_edges[oid2]), len(chunks[oid1].other_edges[oid2]),\n",
    "                )\n",
    "                triangles.add((tuple(sorted([cid,oid1,oid2])), short_edge, sum([len(chunks[x].members) for x in [cid,oid1,oid2]])))"
   ]
  },
  {
   "cell_type": "code",
   "execution_count": 11,
   "metadata": {},
   "outputs": [
    {
     "name": "stdout",
     "output_type": "stream",
     "text": [
      "71\n"
     ]
    },
    {
     "data": {
      "text/plain": [
       "[((31, 53, 59), 7, 343),\n",
       " ((14, 25, 38), 7, 430),\n",
       " ((38, 52, 74), 7, 320),\n",
       " ((1, 14, 24), 7, 393),\n",
       " ((14, 24, 38), 7, 324),\n",
       " ((12, 37, 52), 7, 321),\n",
       " ((46, 49, 74), 6, 287),\n",
       " ((7, 11, 42), 6, 314),\n",
       " ((47, 61, 62), 6, 291),\n",
       " ((14, 26, 30), 6, 320)]"
      ]
     },
     "execution_count": 11,
     "metadata": {},
     "output_type": "execute_result"
    }
   ],
   "source": [
    "print(len(triangles))\n",
    "sorted(triangles, key=lambda x: x[1], reverse=True)[:10]"
   ]
  },
  {
   "cell_type": "code",
   "execution_count": 12,
   "metadata": {},
   "outputs": [],
   "source": [
    "quads = set()\n",
    "for tri in triangles:\n",
    "    for other in triangles:\n",
    "        ids = set(tri[0]).union(other[0])\n",
    "        if len(ids) == 4:\n",
    "            quads.add((tuple(sorted(ids)), min(tri[1], other[1]), sum([len(chunks[x].members) for x in ids])))\n"
   ]
  },
  {
   "cell_type": "code",
   "execution_count": 13,
   "metadata": {},
   "outputs": [
    {
     "name": "stdout",
     "output_type": "stream",
     "text": [
      "93\n"
     ]
    },
    {
     "data": {
      "text/plain": [
       "[((14, 24, 25, 38), 7, 468),\n",
       " ((1, 14, 24, 38), 7, 509),\n",
       " ((1, 47, 61, 62), 5, 476),\n",
       " ((31, 53, 59, 71), 5, 431),\n",
       " ((27, 53, 66, 71), 5, 420),\n",
       " ((31, 53, 66, 71), 5, 399),\n",
       " ((38, 46, 52, 74), 4, 438),\n",
       " ((53, 59, 66, 76), 4, 419),\n",
       " ((1, 29, 61, 62), 4, 479),\n",
       " ((7, 11, 25, 42), 4, 458)]"
      ]
     },
     "execution_count": 13,
     "metadata": {},
     "output_type": "execute_result"
    }
   ],
   "source": [
    "print(len(quads))\n",
    "sorted(quads, key=lambda x: x[1], reverse=True)[:10]"
   ]
  },
  {
   "cell_type": "code",
   "execution_count": 14,
   "metadata": {},
   "outputs": [
    {
     "name": "stdout",
     "output_type": "stream",
     "text": [
      "((31, 53, 59), 7, 343)\n"
     ]
    }
   ],
   "source": [
    "abc_ids = sorted(triangles, key=lambda x: x[1], reverse=True)[0]\n",
    "print(abc_ids)\n"
   ]
  },
  {
   "cell_type": "code",
   "execution_count": 15,
   "metadata": {},
   "outputs": [],
   "source": [
    "a,b,c = abc_ids[0]"
   ]
  },
  {
   "cell_type": "code",
   "execution_count": 16,
   "metadata": {},
   "outputs": [],
   "source": [
    "abc_center = list(chunks[a].self_edges[b].intersection(chunks[a].self_edges[c]))[0]"
   ]
  },
  {
   "cell_type": "code",
   "execution_count": 17,
   "metadata": {},
   "outputs": [
    {
     "data": {
      "text/plain": [
       "{Cube(111, -96, -15),\n",
       " Cube(112, -100, -12),\n",
       " Cube(112, -99, -13),\n",
       " Cube(112, -97, -15),\n",
       " Cube(113, -99, -14),\n",
       " Cube(113, -98, -15),\n",
       " Cube(113, -101, -12),\n",
       " Cube(114, -102, -12),\n",
       " Cube(114, -103, -11)}"
      ]
     },
     "execution_count": 17,
     "metadata": {},
     "output_type": "execute_result"
    }
   ],
   "source": [
    "chunks[a].self_edges[c]"
   ]
  },
  {
   "cell_type": "code",
   "execution_count": 18,
   "metadata": {},
   "outputs": [],
   "source": [
    "img = create_hex_map({cub.tuple(): rgb_from_ijk[centers[v].tuple()] if v in abc_ids[0] else (0,0,0) for cub, v in result.items()}, max_x,max_y,n_x,n_y)\n",
    "img.show()"
   ]
  },
  {
   "cell_type": "code",
   "execution_count": 39,
   "metadata": {},
   "outputs": [],
   "source": [
    "CENTER_SIZE_LIST = [7,5,5,5]\n",
    "KINGDOM_SIZE_LIST = [[6,4,4,4,4], [4,4,3,3], [4,4,3,3], [4,4,3]]\n",
    "BORDER_SIZE_LIST = [4,4,4]"
   ]
  },
  {
   "cell_type": "code",
   "execution_count": null,
   "metadata": {},
   "outputs": [
    {
     "data": {
      "text/plain": [
       "277"
      ]
     },
     "execution_count": 80,
     "metadata": {},
     "output_type": "execute_result"
    }
   ],
   "source": [
    "sum(CENTER_SIZE_LIST)+3*61+6*sum(BORDER_SIZE_LIST)"
   ]
  },
  {
   "cell_type": "code",
   "execution_count": 19,
   "metadata": {},
   "outputs": [],
   "source": [
    "# Basic approach here:\n",
    "# hex that borders all three kingdoms should be the middle of a seven-hex. At least one of them should be--maybe our first guess is wrong.\n",
    "# Make that the central duchy of abc. Then we have to get 3 size-5 duchies; might as well take one from a, b, and c.\n",
    "# Now we need ab/bc/ac; those can start from the edge zones and grow outward from there.\n",
    "\n",
    "# let's calculate the center-dist the dumb way!\n",
    "_, _, cdistmap = voronoi([abc_center],weight_from_cube)"
   ]
  },
  {
   "cell_type": "code",
   "execution_count": 65,
   "metadata": {},
   "outputs": [
    {
     "data": {
      "text/plain": [
       "53"
      ]
     },
     "execution_count": 65,
     "metadata": {},
     "output_type": "execute_result"
    }
   ],
   "source": [
    "max([cdistmap[k] for k,v in result.items() if v in abc_ids[0]])"
   ]
  },
  {
   "cell_type": "code",
   "execution_count": 20,
   "metadata": {},
   "outputs": [],
   "source": [
    "img = create_hex_map({cub.tuple(): (cdistmap[cub]*4,0,0) if v in abc_ids[0] else (0,0,0) for cub, v in result.items()}, max_x,max_y,n_x,n_y)\n",
    "img.show()"
   ]
  },
  {
   "cell_type": "code",
   "execution_count": 21,
   "metadata": {},
   "outputs": [],
   "source": [
    "_, _, adistmap = voronoi(list(chunks[a].self_edges[b].union(chunks[a].self_edges[c])),weight_from_cube)\n",
    "img = create_hex_map({cub.tuple(): (min(255,adistmap[cub]*4),0,0) if v == a else (0,0,0) for cub, v in result.items()}, max_x,max_y,n_x,n_y)\n",
    "img.show()"
   ]
  },
  {
   "cell_type": "code",
   "execution_count": 22,
   "metadata": {},
   "outputs": [],
   "source": [
    "cchunks = []  # These are the county-level regions. There are 4 of them in the center duchy, 6 of them in each border duchy (or a pair of 3, still have to think about that), and 16 in each kingdom.\n",
    "# That's 4+6*3+16*3=70 cchunks.\n",
    "# The first one is always the center plus its neighbors. TODO: check to make sure these are always inside, tho I don't think it'll matter for the ones we expect to grab.\n",
    "cchunks.append(Area(0,set([abc_center]).union(abc_center.neighbors())))"
   ]
  },
  {
   "cell_type": "code",
   "execution_count": 23,
   "metadata": {},
   "outputs": [],
   "source": [
    "# now the center duchy has three more counties, each of which I think we should grow out of the a/b/c regions.\n",
    "for cid, other in enumerate([a,b,c]):\n",
    "    options = {k:weight_from_cube[k] for k in cdistmap.keys() if k in chunks[other].members and k not in cchunks[0].members}\n",
    "    _, _, selection = voronoi([min(options, key=cdistmap.get)],options)\n",
    "    ss = sorted(selection, key=selection.get)\n",
    "    cchunks.append(Area(cid,ss[:5]))"
   ]
  },
  {
   "cell_type": "code",
   "execution_count": 26,
   "metadata": {},
   "outputs": [],
   "source": [
    "ccrgb = {k.tuple():(cdistmap[k]*4,0,0) if v in abc_ids[0] else (0,0,0) for k,v in result.items()}\n",
    "for cind, cc in enumerate(cchunks):\n",
    "    for k in cc.members:\n",
    "        ccrgb[k.tuple()] = (0,255-3*cind,3*cind)\n",
    "img = create_hex_map(ccrgb, max_x,max_y,n_x,n_y)\n",
    "img.show()"
   ]
  },
  {
   "cell_type": "code",
   "execution_count": 30,
   "metadata": {},
   "outputs": [
    {
     "data": {
      "text/plain": [
       "[Cube(110, -94, -16), Cube(107, -95, -12), Cube(111, -98, -13)]"
      ]
     },
     "execution_count": 30,
     "metadata": {},
     "output_type": "execute_result"
    }
   ],
   "source": [
    "allocated = reduce(lambda x,y: x.union(y), [cc.members for cc in cchunks])\n",
    "new_centers = []\n",
    "for o1, o2 in [(a,b),(b,c),(a,c)]:\n",
    "    options = {k for k in chunks[o1].self_edges[o2].union(chunks[o1].other_edges[o2]) if k not in allocated}\n",
    "    new_centers.append(min(options, key=cdistmap.get))\n",
    "new_centers"
   ]
  },
  {
   "cell_type": "code",
   "execution_count": 37,
   "metadata": {},
   "outputs": [],
   "source": [
    "dchunks = []  # These are the duchy-level regions. There is 1 in the center duchy, 2 of them in each border duchy, and 4 in each kingdom.\n",
    "# That's 1+2*3+4*3=19 dchunks.\n",
    "dchunks.append(Area(0,allocated))"
   ]
  },
  {
   "cell_type": "code",
   "execution_count": 103,
   "metadata": {},
   "outputs": [],
   "source": [
    "subweights = {k:weight_from_cube[k] for k,v in result.items() if k not in allocated and v in abc_ids[0]}\n",
    "new_centers, ccsplit, ccdistmap = voronoi(new_centers,subweights)"
   ]
  },
  {
   "cell_type": "code",
   "execution_count": 43,
   "metadata": {},
   "outputs": [],
   "source": [
    "ccrgb = {k.tuple():(0,0,0) for k in result}\n",
    "for cind, cc in enumerate(cchunks):\n",
    "    for k in cc.members:\n",
    "        ccrgb[k.tuple()] = (0,255-30*cind,30*cind)\n",
    "# for k,v in ccsplit.items():\n",
    "#     if k in new_centers:\n",
    "#         ccrgb[k.tuple()] = (255,255,255)\n",
    "#     elif v == 5:\n",
    "#         ccrgb[k.tuple()] = (0,0,0)\n",
    "#     else:\n",
    "#         ccrgb[k.tuple()] = rgb_from_ijk[new_centers[v].tuple()]\n",
    "img = create_hex_map(ccrgb, max_x,max_y,n_x,n_y)\n",
    "img.show()"
   ]
  },
  {
   "cell_type": "code",
   "execution_count": 45,
   "metadata": {},
   "outputs": [
    {
     "name": "stdout",
     "output_type": "stream",
     "text": [
      "7\n"
     ]
    }
   ],
   "source": [
    "print(len(cchunks))"
   ]
  },
  {
   "cell_type": "code",
   "execution_count": 109,
   "metadata": {},
   "outputs": [
    {
     "data": {
      "text/plain": [
       "{0, 1, 2, 3, 4, 5}"
      ]
     },
     "execution_count": 109,
     "metadata": {},
     "output_type": "execute_result"
    }
   ],
   "source": [
    "set(ccsplit.values())"
   ]
  },
  {
   "cell_type": "code",
   "execution_count": 111,
   "metadata": {},
   "outputs": [
    {
     "data": {
      "text/plain": [
       "[180, 62, 61, 27, 23, 3]"
      ]
     },
     "execution_count": 111,
     "metadata": {},
     "output_type": "execute_result"
    }
   ],
   "source": [
    "[len([k for k,v in ccsplit.items() if v == x]) for x in sorted(set(ccsplit.values()))]"
   ]
  },
  {
   "cell_type": "code",
   "execution_count": 28,
   "metadata": {},
   "outputs": [],
   "source": [
    "borderdistmap = {}\n",
    "for x,y,z in permutations([a,b,c]):\n",
    "    _, _, odistmap = voronoi(list(chunks[x].self_edges[y].union(chunks[x].self_edges[z])),{k:v for k,v in weight_from_cube.items() if result[k] == x})\n",
    "    borderdistmap.update(odistmap)\n",
    "img = create_hex_map({cub.tuple(): (min(255,borderdistmap[cub]*4),0,0) if v in abc_ids[0] else (0,0,0) for cub, v in result.items()}, max_x,max_y,n_x,n_y)\n",
    "img.show()"
   ]
  },
  {
   "cell_type": "code",
   "execution_count": 27,
   "metadata": {},
   "outputs": [],
   "source": [
    "ccrgb = {k.tuple():(weight_from_cube[k]*16,0,0) if v in abc_ids[0] else (0,0,0) for k,v in result.items()}\n",
    "img = create_hex_map(ccrgb, max_x,max_y,n_x,n_y)\n",
    "img.show()"
   ]
  },
  {
   "cell_type": "code",
   "execution_count": 29,
   "metadata": {},
   "outputs": [],
   "source": [
    "img = create_hex_map({cub.tuple(): (min(255,borderdistmap[cub]*4+cdistmap[cub]),0,0) if v in abc_ids[0] else (0,0,0) for cub, v in result.items()}, max_x,max_y,n_x,n_y)\n",
    "img.show()"
   ]
  },
  {
   "cell_type": "code",
   "execution_count": 33,
   "metadata": {},
   "outputs": [],
   "source": [
    "subweights = {k:borderdistmap[k]*2+cdistmap[k] for k,v in result.items() if k not in allocated and v in abc_ids[0]}\n",
    "new_centers, ccsplit, ccdistmap = voronoi(new_centers,subweights)\n",
    "ccrgb = {k.tuple():(min(255,ccdistmap.get(k,0)),0,0) if v in abc_ids[0] else (0,0,0) for k,v in result.items()}\n",
    "img = create_hex_map(ccrgb, max_x,max_y,n_x,n_y)\n",
    "img.show()"
   ]
  },
  {
   "cell_type": "code",
   "execution_count": 34,
   "metadata": {},
   "outputs": [],
   "source": [
    "ccrgb = {k.tuple():(min(255,ccdistmap.get(k,0)),0,0) if v in abc_ids[0] else (0,0,0) for k,v in result.items()}\n",
    "img = create_hex_map(ccrgb, max_x,max_y,n_x,n_y)\n",
    "img.show()"
   ]
  },
  {
   "cell_type": "code",
   "execution_count": null,
   "metadata": {},
   "outputs": [],
   "source": [
    "img = create_hex_map(ccrgb, max_x,max_y,n_x,n_y)\n",
    "img.show()"
   ]
  },
  {
   "cell_type": "code",
   "execution_count": 41,
   "metadata": {},
   "outputs": [
    {
     "data": {
      "text/plain": [
       "[<area.Area at 0x262ccd47880>,\n",
       " <area.Area at 0x262cf305910>,\n",
       " <area.Area at 0x262cf219b50>,\n",
       " <area.Area at 0x262cf3055b0>,\n",
       " <area.Area at 0x262cf4d8fa0>,\n",
       " <area.Area at 0x262cf552fd0>,\n",
       " <area.Area at 0x262cf5521c0>]"
      ]
     },
     "execution_count": 41,
     "metadata": {},
     "output_type": "execute_result"
    }
   ],
   "source": [
    "cchunks"
   ]
  },
  {
   "cell_type": "code",
   "execution_count": 39,
   "metadata": {},
   "outputs": [],
   "source": [
    "# each pair of border duchies is just the 24 'closest' hexes determined by our distance function.\n",
    "for cid, other in enumerate([a,b,c]):\n",
    "    options = {k:weight_from_cube[k] for k in cdistmap.keys() if k in chunks[other].members and k not in cchunks[0].members}\n",
    "    _, _, selection = voronoi([min(options, key=cdistmap.get)],options)\n",
    "    ss = sorted(selection, key=selection.get)\n",
    "    cchunks.append(Area(cid,ss[:23]))"
   ]
  },
  {
   "cell_type": "code",
   "execution_count": 47,
   "metadata": {},
   "outputs": [
    {
     "data": {
      "text/plain": [
       "{Cube(111, -94, -17),\n",
       " Cube(112, -94, -18),\n",
       " Cube(112, -95, -17),\n",
       " Cube(113, -96, -17),\n",
       " Cube(113, -95, -18)}"
      ]
     },
     "execution_count": 47,
     "metadata": {},
     "output_type": "execute_result"
    }
   ],
   "source": [
    "cchunks[4].members"
   ]
  },
  {
   "cell_type": "code",
   "execution_count": null,
   "metadata": {},
   "outputs": [],
   "source": []
  }
 ],
 "metadata": {
  "kernelspec": {
   "display_name": "Python 3",
   "language": "python",
   "name": "python3"
  },
  "language_info": {
   "codemirror_mode": {
    "name": "ipython",
    "version": 3
   },
   "file_extension": ".py",
   "mimetype": "text/x-python",
   "name": "python",
   "nbconvert_exporter": "python",
   "pygments_lexer": "ipython3",
   "version": "3.10.4"
  }
 },
 "nbformat": 4,
 "nbformat_minor": 2
}
