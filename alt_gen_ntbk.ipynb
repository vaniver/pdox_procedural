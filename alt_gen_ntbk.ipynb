{
 "cells": [
  {
   "cell_type": "code",
   "execution_count": 1,
   "metadata": {},
   "outputs": [],
   "source": [
    "from cube import Cube\n",
    "from tile import Tile\n",
    "from alt_map import create_hex_map, valid_cubes"
   ]
  },
  {
   "cell_type": "code",
   "execution_count": 2,
   "metadata": {},
   "outputs": [],
   "source": [
    "import random"
   ]
  },
  {
   "cell_type": "code",
   "execution_count": 3,
   "metadata": {},
   "outputs": [],
   "source": [
    "random.seed(1945)\n",
    "n_x = 129\n",
    "n_y = 65\n",
    "rgb_from_ijk = {cub.tuple():(random.randint(0,255), random.randint(0,255), random.randint(0,255)) for cub in valid_cubes(n_x,n_y)}"
   ]
  },
  {
   "cell_type": "code",
   "execution_count": 4,
   "metadata": {},
   "outputs": [],
   "source": [
    "max_x = 10*(n_x*3-3)\n",
    "max_y = 17*(n_y*2-2)"
   ]
  },
  {
   "cell_type": "code",
   "execution_count": 5,
   "metadata": {},
   "outputs": [],
   "source": [
    "img = create_hex_map(rgb_from_ijk, max_x,max_y,n_x,n_y)\n",
    "img.show()"
   ]
  },
  {
   "cell_type": "code",
   "execution_count": 6,
   "metadata": {},
   "outputs": [],
   "source": [
    "pid_from_cube = {cub.tuple(): ind for ind, cub in enumerate(valid_cubes(n_x,n_y))}\n",
    "cube_from_pid = {v: k for k, v in pid_from_cube.items()}\n",
    "weight_from_pid = {pid: random.randint(1,8) for pid in cube_from_pid.keys()}"
   ]
  },
  {
   "cell_type": "code",
   "execution_count": 7,
   "metadata": {},
   "outputs": [],
   "source": [
    "weight_from_cube = {Cube(cube_from_pid[k]): v for k,v in weight_from_pid.items()}"
   ]
  },
  {
   "cell_type": "code",
   "execution_count": 8,
   "metadata": {},
   "outputs": [
    {
     "name": "stdout",
     "output_type": "stream",
     "text": [
      "[(112, -78, -34), (29, -70, 41), (36, -53, 17), (25, -72, 47), (85, -90, 5), (94, -106, 12), (106, -110, 4), (38, -45, 7), (126, -116, -10), (64, -62, -2), (93, -79, -14), (31, -45, 14), (123, -123, 0), (26, -76, 50), (2, -40, 38), (98, -83, -15), (35, -49, 14), (82, -96, 14), (30, -72, 42), (69, -38, -31), (106, -113, 7), (47, -57, 10), (79, -95, 16), (124, -69, -55), (53, -80, 27), (26, -73, 47), (97, -92, -5), (15, -70, 55), (115, -83, -32), (20, -27, 7), (67, -93, 26), (33, -30, -3), (115, -73, -42), (42, -40, -2), (72, -57, -15), (43, -46, 3), (12, -53, 41), (116, -116, 0), (5, -37, 32), (73, -40, -33)]\n",
      "40\n"
     ]
    }
   ],
   "source": [
    "centers = random.sample(sorted(cube_from_pid.values()),40)\n",
    "print(centers)\n",
    "print(sum([sum([x == c for x in centers]) for c in centers]))"
   ]
  },
  {
   "cell_type": "code",
   "execution_count": 9,
   "metadata": {},
   "outputs": [],
   "source": [
    "def voronoi(centers, weight_from_cube):\n",
    "    \"\"\"Uses the domain of weight_from_cube to determine which cubes are eligible to be filled.\n",
    "    - centers is a list of cubes\n",
    "    - weight_from_cube is a dictionary of cube tuples to numbers\n",
    "    returns a dictionary of cube tuples to the index of the centers list that they correspond to.\"\"\"\n",
    "    # distances = {cub: [0]*len(centers) if }\n",
    "    centers = [Cube(x) for x in centers]  #If they're tuples, make them cubes.\n",
    "    # See if any of the centers are on top of each other. TODO: Handle that case instead of just erroring.\n",
    "    assert len(centers) == sum([sum([x == c for x in centers]) for c in centers])\n",
    "    # Overall strategy: \n",
    "    # - seed all of the centers with distance 0\n",
    "    # - add all neighbors of the centers to expand sets with the weight of the center as the 'distance'\n",
    "    # - while there are any elements in the expansion sets, pick the lowest distance one and expand it\n",
    "    # - if it's the lowest distance to the cell it expands to, add that to the expansion set\n",
    "    # = finally, point each cell at its lowest distance source. \n",
    "    distmap = {Cube(k):{} for k in weight_from_cube.keys()}\n",
    "    # Each center is in its own voronoi cell\n",
    "    for cind, center in enumerate(centers):\n",
    "        distmap[center][cind] = 0\n",
    "        to_explore = set([center])\n",
    "        # explored = set()\n",
    "        while len(to_explore) > 0:\n",
    "            cub = to_explore.pop()\n",
    "            base_dist = distmap[cub][cind] + weight_from_cube[cub]\n",
    "            expanding = [c for c in cub.neighbors() if c in weight_from_cube ]  # and c not in explored]\n",
    "            for other in expanding:\n",
    "                if len(distmap[other]) == 0 or min(distmap[other].values()) > base_dist:\n",
    "                    distmap[other][cind] = base_dist\n",
    "                    to_explore.add(other)\n",
    "                else:\n",
    "                    continue            \n",
    "    #TODO: This currently is 'kind of fast' but could be faster. Two possible improvements:\n",
    "    # Instead of starting with center 1 and fully calculating the distances, start with all centers simultaneously.\n",
    "    # The previous, but instead of having to argmin the to_explore queue each time, have the queue split out by distance so that it's obvious where the next place to go is.\n",
    "    result = dict()\n",
    "    for cub in weight_from_cube.keys():\n",
    "        dists = distmap.get(Cube(cub),{0:0})\n",
    "        result[cub] = min(dists, key=dists.get)\n",
    "    return result\n",
    "        "
   ]
  },
  {
   "cell_type": "code",
   "execution_count": 10,
   "metadata": {},
   "outputs": [],
   "source": [
    "def iterative_voronoi(num_centers, weight_from_cube, min_size, max_iters=20):\n",
    "    \"\"\"Given a set of weights, seed num_centers random centers and then keep going until all of the regions are at least min_size.\n",
    "    Returns the pair of centers and ind_from_cube mapping.\"\"\"\n",
    "    assert num_centers * min_size < len(weight_from_cube)\n",
    "    # assert num_centers * max_size > len(weight_from_cube)\n",
    "    centers = random.sample(list(weight_from_cube.keys()),num_centers)\n",
    "    guess = voronoi(centers, weight_from_cube)\n",
    "    sizes = {c:0 for c in range(num_centers)}\n",
    "    means = {c:Cube(0,0,0) for c in range(num_centers)}\n",
    "    for cub, ind in guess.items():\n",
    "        sizes[ind] += 1\n",
    "        means[ind].add_in_place(cub)\n",
    "    print(sum([min_size <= sizes[ind] for ind in range(num_centers)]))\n",
    "    if all([min_size <= sizes[ind] for ind in range(num_centers)]):\n",
    "        return centers, guess\n",
    "    iter = 1\n",
    "    while not all([min_size <= sizes[ind] for ind in range(num_centers)]):\n",
    "        to_remove = []\n",
    "        for ind in range(len(centers)):\n",
    "            if min_size <= sizes[ind]:\n",
    "                x = means[ind].x // sizes[ind]\n",
    "                y = means[ind].y // sizes[ind]\n",
    "                z = -x-y\n",
    "                centers[ind] = Cube(x,y,z)\n",
    "            elif sizes[ind] < min_size:\n",
    "                to_remove.append(ind)\n",
    "        argmaxes = sorted(sizes, key=sizes.get, reverse=True)\n",
    "        for from_ind, to_ind in zip(to_remove, argmaxes):\n",
    "            centers[from_ind] = random.sample([k for k,v in guess.items() if v==to_ind and k != centers[to_ind]], k=1)[0]\n",
    "        guess = voronoi(centers, weight_from_cube)\n",
    "        iter += 1\n",
    "        if iter >= max_iters:\n",
    "            return centers, guess\n",
    "        sizes = {c:0 for c in range(num_centers)}\n",
    "        means = {c:Cube(0,0,0) for c in range(num_centers)}\n",
    "        for cub, ind in guess.items():\n",
    "            sizes[ind] += 1\n",
    "            means[ind].add_in_place(cub)\n",
    "        print(sum([min_size <= sizes[ind] for ind in range(num_centers)]))\n",
    "    return centers, guess\n",
    "\n",
    "        \n",
    "\n"
   ]
  },
  {
   "cell_type": "code",
   "execution_count": 23,
   "metadata": {},
   "outputs": [
    {
     "name": "stdout",
     "output_type": "stream",
     "text": [
      "54\n",
      "69\n",
      "73\n",
      "72\n",
      "73\n",
      "73\n",
      "69\n",
      "75\n",
      "72\n",
      "72\n",
      "73\n",
      "73\n",
      "72\n",
      "77\n",
      "78\n",
      "79\n",
      "76\n",
      "76\n",
      "77\n"
     ]
    }
   ],
   "source": [
    "centers, result = iterative_voronoi(num_centers=80, weight_from_cube=weight_from_cube, min_size=61)\n",
    "img = create_hex_map({cub.tuple(): rgb_from_ijk[centers[v].tuple()] for cub, v in result.items()}, max_x,max_y,n_x,n_y)\n",
    "img.show()\n",
    "img.save(\"weighted.png\")"
   ]
  },
  {
   "cell_type": "code",
   "execution_count": 20,
   "metadata": {},
   "outputs": [],
   "source": [
    "img = create_hex_map({cub.tuple(): rgb_from_ijk[centers[v].tuple()] for cub, v in result.items()}, max_x,max_y,n_x,n_y)\n",
    "img.show()"
   ]
  },
  {
   "cell_type": "code",
   "execution_count": 17,
   "metadata": {},
   "outputs": [],
   "source": [
    "img = create_hex_map({cub.tuple(): rgb_from_ijk[centers[v].tuple()] if v==1 else (0,0,0) for cub, v in result.items()}, max_x,max_y,n_x,n_y)\n",
    "img.show()"
   ]
  },
  {
   "cell_type": "code",
   "execution_count": 65,
   "metadata": {},
   "outputs": [],
   "source": [
    "img = create_hex_map({cub.tuple(): (v[1]//3,0,0) for cub, v in distmap.items()}, max_x,max_y,n_x,n_y)\n",
    "img.show()"
   ]
  },
  {
   "cell_type": "code",
   "execution_count": 62,
   "metadata": {},
   "outputs": [
    {
     "data": {
      "text/plain": [
       "620"
      ]
     },
     "execution_count": 62,
     "metadata": {},
     "output_type": "execute_result"
    }
   ],
   "source": [
    "max([max([distmap[c][x] for c in weight_from_cube.keys()]) for x in range(len(centers))])"
   ]
  },
  {
   "cell_type": "code",
   "execution_count": 49,
   "metadata": {},
   "outputs": [
    {
     "data": {
      "text/plain": [
       "(118, 191, 215)"
      ]
     },
     "execution_count": 49,
     "metadata": {},
     "output_type": "execute_result"
    }
   ],
   "source": [
    "rgb_from_ijk[centers[29]]"
   ]
  },
  {
   "cell_type": "code",
   "execution_count": 26,
   "metadata": {},
   "outputs": [
    {
     "data": {
      "text/plain": [
       "136"
      ]
     },
     "execution_count": 26,
     "metadata": {},
     "output_type": "execute_result"
    }
   ],
   "source": [
    "len(weight_from_cube)//61"
   ]
  },
  {
   "cell_type": "code",
   "execution_count": 13,
   "metadata": {},
   "outputs": [],
   "source": [
    "def simple_voronoi(centers, weights_from_cube):\n",
    "    \"\"\"Uses the domain of weights_from_cube to determine which cubes are eligible to be filled.\n",
    "    - centers is a list of cubes\n",
    "    - weights_from_cube is a dictionary of cube tuples to numbers\n",
    "    returns a dictionary of cube tuples to the index of the centers list that they correspond to.\"\"\"\n",
    "    # distances = {cub: [0]*len(centers) if }\n",
    "    centers = [Cube(x) for x in centers]  #If they're tuples, make them cubes.\n",
    "    # See if any of the centers are on top of each other. TODO: Handle that case instead of just erroring.\n",
    "    assert len(centers) == sum([sum([x == c for x in centers]) for c in centers])\n",
    "    result = {}\n",
    "    for cub in weights_from_cube.keys():\n",
    "        dists = {cind:Cube(cub).dist(c) for cind, c in enumerate(centers)}\n",
    "        result[cub] = min(dists, key=dists.get)\n",
    "    return result\n",
    "        "
   ]
  },
  {
   "cell_type": "code",
   "execution_count": 24,
   "metadata": {},
   "outputs": [],
   "source": [
    "result = simple_voronoi(centers, weight_from_cube)\n",
    "img = create_hex_map({cub.tuple(): rgb_from_ijk[centers[v].tuple()] for cub, v in result.items()}, max_x,max_y,n_x,n_y)\n",
    "img.show()\n",
    "img.save(\"simple.png\")"
   ]
  },
  {
   "cell_type": "code",
   "execution_count": 32,
   "metadata": {},
   "outputs": [],
   "source": [
    "class Chunk:\n",
    "    def __init__(self, cid, members):\n",
    "        \"\"\"Each chunk has a chunk id (cid) and a \"\"\"\n",
    "        self.cid = cid\n",
    "        self.members = members\n",
    "    \n",
    "    def calc_edges(self, cid_from_cube):\n",
    "        \"\"\"Calculates boundary, the set of cubes that border another chunk,\n",
    "        self_edges, a dictionary that maps from other cids to all cubes that border that cid,\n",
    "        other_edges, a dictionary that maps from other cids to all cubes in the other chunk that border this one.\"\"\"\n",
    "        self.boundary = set()\n",
    "        self.self_edges = {}\n",
    "        self.other_edges = {}\n",
    "        for member in self.members:\n",
    "            others = [other for other in member.neighbors() if other not in self.members and other in cid_from_cube]\n",
    "            for other in others:  # Note this will skip if it's an empty list\n",
    "                self.boundary.add(member)\n",
    "                ocid = cid_from_cube[other]\n",
    "                if cid_from_cube[other] in self.self_edges:\n",
    "                    self.self_edges[ocid].add(member)\n",
    "                    self.other_edges[ocid].add(other)\n",
    "                else:\n",
    "                    self.self_edges[ocid] = set([member])\n",
    "                    self.other_edges[ocid] = set([other])"
   ]
  },
  {
   "cell_type": "code",
   "execution_count": 33,
   "metadata": {},
   "outputs": [],
   "source": [
    "cids = sorted(set(result.values()))\n",
    "chunks = []\n",
    "for cid in cids:\n",
    "    chunks.append(Chunk(cid, [k for k, v in result.items() if v == cid]))\n",
    "for chunk in chunks:\n",
    "    chunk.calc_edges(result)"
   ]
  },
  {
   "cell_type": "code",
   "execution_count": 38,
   "metadata": {},
   "outputs": [
    {
     "data": {
      "text/plain": [
       "[6,\n",
       " 7,\n",
       " 7,\n",
       " 5,\n",
       " 5,\n",
       " 6,\n",
       " 5,\n",
       " 4,\n",
       " 6,\n",
       " 6,\n",
       " 6,\n",
       " 6,\n",
       " 6,\n",
       " 5,\n",
       " 7,\n",
       " 4,\n",
       " 3,\n",
       " 6,\n",
       " 7,\n",
       " 5,\n",
       " 7,\n",
       " 5,\n",
       " 6,\n",
       " 6,\n",
       " 4,\n",
       " 6,\n",
       " 5,\n",
       " 2,\n",
       " 2,\n",
       " 4,\n",
       " 5,\n",
       " 4,\n",
       " 4,\n",
       " 7,\n",
       " 7,\n",
       " 6,\n",
       " 6,\n",
       " 6,\n",
       " 4,\n",
       " 6,\n",
       " 3,\n",
       " 6,\n",
       " 6,\n",
       " 6,\n",
       " 6,\n",
       " 5,\n",
       " 6,\n",
       " 5,\n",
       " 6,\n",
       " 5,\n",
       " 4,\n",
       " 5,\n",
       " 7,\n",
       " 3,\n",
       " 5,\n",
       " 3,\n",
       " 6,\n",
       " 6,\n",
       " 5,\n",
       " 4,\n",
       " 5,\n",
       " 4,\n",
       " 3,\n",
       " 7,\n",
       " 6,\n",
       " 7,\n",
       " 4,\n",
       " 4,\n",
       " 6,\n",
       " 4,\n",
       " 4,\n",
       " 3,\n",
       " 6,\n",
       " 6,\n",
       " 5,\n",
       " 4,\n",
       " 4,\n",
       " 5,\n",
       " 4,\n",
       " 3]"
      ]
     },
     "execution_count": 38,
     "metadata": {},
     "output_type": "execute_result"
    }
   ],
   "source": [
    "[len(chunk.self_edges.keys()) for chunk in chunks]"
   ]
  },
  {
   "cell_type": "code",
   "execution_count": 59,
   "metadata": {},
   "outputs": [],
   "source": [
    "triangles = set()\n",
    "for cid in cids:\n",
    "    for oid1 in chunks[cid].self_edges.keys():\n",
    "        for oid2 in chunks[oid1].self_edges.keys():\n",
    "            if cid in chunks[oid2].self_edges.keys():\n",
    "                # Found a triangle!\n",
    "                short_edge = min(\n",
    "                    len(chunks[cid].self_edges[oid1]),  len(chunks[cid].other_edges[oid1]),\n",
    "                    len(chunks[cid].self_edges[oid2]),  len(chunks[cid].other_edges[oid2]),\n",
    "                    len(chunks[oid1].self_edges[oid2]), len(chunks[cid].other_edges[oid2]),\n",
    "                )\n",
    "                triangles.add((tuple(sorted([cid,oid1,oid2])), short_edge, sum([len(chunks[x].members) for x in [cid,oid1,oid2]])))"
   ]
  },
  {
   "cell_type": "code",
   "execution_count": 63,
   "metadata": {},
   "outputs": [
    {
     "name": "stdout",
     "output_type": "stream",
     "text": [
      "162\n"
     ]
    },
    {
     "data": {
      "text/plain": [
       "[((5, 32, 45), 9, 296),\n",
       " ((38, 42, 49), 9, 371),\n",
       " ((4, 55, 60), 9, 263),\n",
       " ((11, 18, 43), 8, 351),\n",
       " ((12, 59, 70), 8, 318),\n",
       " ((17, 20, 23), 8, 309),\n",
       " ((58, 60, 79), 8, 251),\n",
       " ((10, 29, 66), 8, 331),\n",
       " ((12, 59, 70), 7, 318),\n",
       " ((20, 48, 74), 7, 263)]"
      ]
     },
     "execution_count": 63,
     "metadata": {},
     "output_type": "execute_result"
    }
   ],
   "source": [
    "print(len(triangles))\n",
    "sorted(triangles, key=lambda x: x[1], reverse=True)[:10]"
   ]
  },
  {
   "cell_type": "code",
   "execution_count": 61,
   "metadata": {},
   "outputs": [],
   "source": [
    "quads = set()\n",
    "for tri in triangles:\n",
    "    for other in triangles:\n",
    "        ids = set(tri[0]).union(other[0])\n",
    "        if len(ids) == 4:\n",
    "            quads.add((tuple(sorted(ids)), min(tri[1], other[1]), sum([len(chunks[x].members) for x in ids])))\n"
   ]
  },
  {
   "cell_type": "code",
   "execution_count": 62,
   "metadata": {},
   "outputs": [
    {
     "data": {
      "text/plain": [
       "[((6, 25, 44, 51), 6, 427),\n",
       " ((17, 20, 23, 46), 6, 397),\n",
       " ((22, 25, 39, 44), 6, 396),\n",
       " ((4, 14, 22, 35), 6, 388),\n",
       " ((25, 42, 44, 51), 6, 422),\n",
       " ((6, 25, 51, 54), 6, 429),\n",
       " ((3, 6, 25, 54), 6, 449),\n",
       " ((17, 21, 23, 72), 6, 428),\n",
       " ((6, 13, 25, 51), 6, 456),\n",
       " ((21, 34, 75, 76), 6, 466)]"
      ]
     },
     "execution_count": 62,
     "metadata": {},
     "output_type": "execute_result"
    }
   ],
   "source": [
    "print(len(quads))\n",
    "sorted(quads, key=lambda x: x[1], reverse=True)[:10]"
   ]
  },
  {
   "cell_type": "code",
   "execution_count": 83,
   "metadata": {},
   "outputs": [
    {
     "name": "stdout",
     "output_type": "stream",
     "text": [
      "((17, 20, 23), 8, 309)\n"
     ]
    }
   ],
   "source": [
    "abc_ids = sorted(triangles, key=lambda x: x[1], reverse=True)[5]\n",
    "print(abc_ids)\n"
   ]
  },
  {
   "cell_type": "code",
   "execution_count": 84,
   "metadata": {},
   "outputs": [],
   "source": [
    "a,b,c = abc_ids[0]"
   ]
  },
  {
   "cell_type": "code",
   "execution_count": 85,
   "metadata": {},
   "outputs": [],
   "source": [
    "abc_center = chunks[a].self_edges[b].intersection(chunks[a].self_edges[c])"
   ]
  },
  {
   "cell_type": "code",
   "execution_count": 86,
   "metadata": {},
   "outputs": [
    {
     "data": {
      "text/plain": [
       "{Cube(61, -73, 12),\n",
       " Cube(63, -74, 11),\n",
       " Cube(62, -74, 12),\n",
       " Cube(64, -75, 11),\n",
       " Cube(66, -76, 10),\n",
       " Cube(65, -76, 11),\n",
       " Cube(67, -77, 10),\n",
       " Cube(68, -77, 9)}"
      ]
     },
     "execution_count": 86,
     "metadata": {},
     "output_type": "execute_result"
    }
   ],
   "source": [
    "chunks[a].self_edges[c]"
   ]
  },
  {
   "cell_type": "code",
   "execution_count": 88,
   "metadata": {},
   "outputs": [],
   "source": [
    "img = create_hex_map({cub.tuple(): rgb_from_ijk[centers[v].tuple()] for cub, v in result.items()}, max_x,max_y,n_x,n_y)\n",
    "img.show()"
   ]
  },
  {
   "cell_type": "code",
   "execution_count": 76,
   "metadata": {},
   "outputs": [
    {
     "data": {
      "text/plain": [
       "((5, 32, 45), 9, 296)"
      ]
     },
     "execution_count": 76,
     "metadata": {},
     "output_type": "execute_result"
    }
   ],
   "source": [
    "abc_ids"
   ]
  },
  {
   "cell_type": "code",
   "execution_count": 78,
   "metadata": {},
   "outputs": [],
   "source": [
    "CENTER_SIZE_LIST = [7,5,5,5]\n",
    "KINGDOM_SIZE_LIST = [[6,4,4,4,4], [4,4,3,3], [4,4,3,3], [4,4,3]]\n",
    "BORDER_SIZE_LIST = [4,4,4]"
   ]
  },
  {
   "cell_type": "code",
   "execution_count": 80,
   "metadata": {},
   "outputs": [
    {
     "data": {
      "text/plain": [
       "277"
      ]
     },
     "execution_count": 80,
     "metadata": {},
     "output_type": "execute_result"
    }
   ],
   "source": [
    "sum(CENTER_SIZE_LIST)+3*61+6*sum(BORDER_SIZE_LIST)"
   ]
  },
  {
   "cell_type": "code",
   "execution_count": null,
   "metadata": {},
   "outputs": [],
   "source": [
    "# Basic approach here:\n",
    "# hex that borders all three kingdoms should be the middle of a seven-hex. At least one of them should be--maybe our first guess is wrong.\n",
    "# Make that the central duchy of abc. Then we have to get 3 size-5 duchies; might as well take one from a, b, and c.\n",
    "# Now we need ab/bc/ac; those can start from the edge zones and grow outward from there.\n",
    "\n",
    "abc0 = Chunk()"
   ]
  }
 ],
 "metadata": {
  "kernelspec": {
   "display_name": "Python 3",
   "language": "python",
   "name": "python3"
  },
  "language_info": {
   "codemirror_mode": {
    "name": "ipython",
    "version": 3
   },
   "file_extension": ".py",
   "mimetype": "text/x-python",
   "name": "python",
   "nbconvert_exporter": "python",
   "pygments_lexer": "ipython3",
   "version": "3.9.13"
  }
 },
 "nbformat": 4,
 "nbformat_minor": 2
}
